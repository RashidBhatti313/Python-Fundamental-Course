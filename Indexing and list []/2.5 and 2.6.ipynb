{
 "cells": [
  {
   "cell_type": "code",
   "execution_count": 2,
   "metadata": {},
   "outputs": [
    {
     "data": {
      "text/plain": [
       "'hello'"
      ]
     },
     "execution_count": 2,
     "metadata": {},
     "output_type": "execute_result"
    }
   ],
   "source": [
    "\n",
    "s='helllo'\n",
    "s[0]\n",
    "'h'\n",
    "s[1]\n",
    "'e'\n",
    "s[4]\n",
    "'l'\n",
    "s='helllo'\n",
    "s='hello'\n",
    "s[4]\n",
    "'o'\n",
    "s[-2]\n",
    "'l'\n",
    "pets=['goldfish','cat','dog']\n",
    "print(pets)\n",
    "things=['one',2,[3,4]]\n",
    "print(things)\n",
    "pets[0]\n",
    "'goldfish'\n",
    "pets[2]\n",
    "'dog'\n",
    "pets[1]\n",
    "'cat'\n",
    "pets[-1]\n",
    "'dog'\n",
    "pets[-2]\n",
    "'cat'\n",
    "len(pets)\n",
    "3\n",
    "pets + pets\n",
    "['goldfish', 'cat', 'dog', 'goldfish', 'cat', 'dog']\n",
    "pets*2\n",
    "['goldfish', 'cat', 'dog', 'goldfish', 'cat', 'dog']\n",
    "'rabbit' in pets\n",
    "False\n",
    "'dog' in pets\n",
    "True\n",
    "'cat' in pets\n",
    "'cat' in pets\n",
    "True\n",
    "lst=[23.99,19.99,34.50,120.99]\n",
    "min(lst)\n",
    "19.99\n",
    "max(lst)\n",
    "120.99\n",
    "sum(lst)\n",
    "199.46999999999997\n",
    "s='0123456789'\n",
    "s[0]\n",
    "'0'\n",
    "s[1]\n",
    "'1'\n",
    "s[2]\n",
    "'2'\n",
    "s[3]\n",
    "'3'\n",
    "s[4]\n",
    "'4'\n",
    "s[5]\n",
    "'5'\n",
    "s[6]\n",
    "'6'\n",
    "s[7]\n",
    "'7'\n",
    "s[8]\n",
    "'8'\n",
    "s[9]\n",
    "'9'\n",
    "words=['bat','ball','barn','basket','football']\n",
    "words=[0]\n",
    "words=['bat','ball','barn','basket','football']\n",
    "words\n",
    "['bat', 'ball', 'barn', 'basket', 'football']\n",
    "len(words)\n",
    "5\n",
    "words+words\n",
    "['bat', 'ball', 'barn', 'basket', 'football', 'bat', 'ball', 'barn', 'basket', 'football']\n",
    "pets='goldfish','Dog','Cat'\n",
    "pets\n",
    "s='hello'\n",
    "s"
   ]
  }
 ],
 "metadata": {
  "kernelspec": {
   "display_name": "Python 3",
   "language": "python",
   "name": "python3"
  },
  "language_info": {
   "codemirror_mode": {
    "name": "ipython",
    "version": 3
   },
   "file_extension": ".py",
   "mimetype": "text/x-python",
   "name": "python",
   "nbconvert_exporter": "python",
   "pygments_lexer": "ipython3",
   "version": "3.11.1"
  },
  "orig_nbformat": 4
 },
 "nbformat": 4,
 "nbformat_minor": 2
}
