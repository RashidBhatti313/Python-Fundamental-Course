{
 "cells": [
  {
   "cell_type": "code",
   "execution_count": 1,
   "metadata": {},
   "outputs": [
    {
     "name": "stdout",
     "output_type": "stream",
     "text": [
      "sum of a and b =  7\n",
      "difference a- b =  -1\n",
      "produt is =  12\n",
      "division is =  12\n",
      "intiger division is =  0\n",
      "Raised to the power =  81\n",
      "Remaider is = 3\n",
      "10\n",
      "2\n",
      "15\n",
      "1.6666666666666667\n",
      "2\n",
      "1\n",
      "125\n",
      "1\n",
      "7\n",
      "6\n",
      "0\n",
      "40\n"
     ]
    }
   ],
   "source": [
    "a = 3\n",
    "b = 4\n",
    "print(\"sum of a and b = \" , a+b)\n",
    "print(\"difference a- b = \", a-b)\n",
    "print(\"produt is = \", a*b)\n",
    "print(\"division is = \", a*b)\n",
    "print(\"intiger division is = \", a//b)\n",
    "print(\"Raised to the power = \", a**b)\n",
    "print(\"Remaider is =\", a%b)\n",
    "x=5\n",
    "x+=5\n",
    "print(x)\n",
    "x=5\n",
    "x-=3\n",
    "print(x)\n",
    "x=5\n",
    "x*=3\n",
    "print(x)\n",
    "x=5\n",
    "x/=3\n",
    "print(x)\n",
    "x=5\n",
    "x%=3\n",
    "print(x)\n",
    "x=5\n",
    "x//=3\n",
    "print(x)\n",
    "x=5\n",
    "x**=3\n",
    "print(x)\n",
    "x=5\n",
    "x&=3\n",
    "print(x)\n",
    "x=5\n",
    "x|=3\n",
    "print(x)\n",
    "x=5\n",
    "x^=3\n",
    "print(x)\n",
    "x=5\n",
    "x>>=3\n",
    "print(x)\n",
    "x=5\n",
    "x<<=3\n",
    "print(x)"
   ]
  },
  {
   "cell_type": "code",
   "execution_count": 29,
   "metadata": {},
   "outputs": [
    {
     "name": "stdout",
     "output_type": "stream",
     "text": [
      "0\n",
      "48\n"
     ]
    }
   ],
   "source": [
    "x=5\n",
    "x>>=3\n",
    "print(x)\n",
    "x=6\n",
    "x<<=3\n",
    "print(x)\n",
    "\n",
    "\n"
   ]
  },
  {
   "cell_type": "code",
   "execution_count": 35,
   "metadata": {},
   "outputs": [
    {
     "name": "stdout",
     "output_type": "stream",
     "text": [
      "x is equal to y=  False\n",
      "x is not equal to y= True\n",
      "x is greater than y=  True\n",
      "x is less than y=  False\n",
      "x is greater than or equal to y= True\n",
      "x is less than or equal to y= False\n"
     ]
    }
   ],
   "source": [
    "x=20\n",
    "y=15\n",
    "\n",
    "print(\"x is equal to y= \",x==y)\n",
    "print(\"x is not equal to y=\",x!=y)\n",
    "print (\"x is greater than y= \",x>y)\n",
    "print (\"x is less than y= \",x<y)\n",
    "print(\"x is greater than or equal to y=\",x>=y)\n",
    "print(\"x is less than or equal to y=\", x<=y)"
   ]
  },
  {
   "cell_type": "code",
   "execution_count": 36,
   "metadata": {},
   "outputs": [
    {
     "name": "stdout",
     "output_type": "stream",
     "text": [
      "True\n"
     ]
    }
   ],
   "source": [
    "x=15\n",
    "print(x>13 and x<20)"
   ]
  },
  {
   "cell_type": "code",
   "execution_count": 37,
   "metadata": {},
   "outputs": [
    {
     "name": "stdout",
     "output_type": "stream",
     "text": [
      "True\n"
     ]
    }
   ],
   "source": [
    "x=25\n",
    "print(x>23 or x<24)"
   ]
  },
  {
   "cell_type": "code",
   "execution_count": 38,
   "metadata": {},
   "outputs": [
    {
     "name": "stdout",
     "output_type": "stream",
     "text": [
      "False\n"
     ]
    }
   ],
   "source": [
    "x= 35\n",
    "print(not(x>33 and x<40))"
   ]
  },
  {
   "cell_type": "code",
   "execution_count": 41,
   "metadata": {},
   "outputs": [
    {
     "name": "stdout",
     "output_type": "stream",
     "text": [
      "True\n",
      "False\n",
      "False\n"
     ]
    }
   ],
   "source": [
    "x=[\"ahmed\",\"bashir\"]\n",
    "x=[\"ahmed\",\"bashir\"]\n",
    "z=x\n",
    "print(x is z)\n",
    "print(x is y)\n",
    "print(x==y)"
   ]
  },
  {
   "cell_type": "code",
   "execution_count": null,
   "metadata": {},
   "outputs": [],
   "source": []
  },
  {
   "cell_type": "code",
   "execution_count": null,
   "metadata": {},
   "outputs": [],
   "source": []
  },
  {
   "cell_type": "code",
   "execution_count": null,
   "metadata": {},
   "outputs": [],
   "source": []
  },
  {
   "cell_type": "code",
   "execution_count": null,
   "metadata": {},
   "outputs": [],
   "source": []
  },
  {
   "cell_type": "code",
   "execution_count": null,
   "metadata": {},
   "outputs": [],
   "source": []
  }
 ],
 "metadata": {
  "kernelspec": {
   "display_name": "Python 3",
   "language": "python",
   "name": "python3"
  },
  "language_info": {
   "codemirror_mode": {
    "name": "ipython",
    "version": 3
   },
   "file_extension": ".py",
   "mimetype": "text/x-python",
   "name": "python",
   "nbconvert_exporter": "python",
   "pygments_lexer": "ipython3",
   "version": "3.11.1"
  },
  "orig_nbformat": 4,
  "vscode": {
   "interpreter": {
    "hash": "1c507d9c22b2489d7aeb2634cb9c2d05b57686e7885bf490b0706b1b67c5db89"
   }
  }
 },
 "nbformat": 4,
 "nbformat_minor": 2
}
