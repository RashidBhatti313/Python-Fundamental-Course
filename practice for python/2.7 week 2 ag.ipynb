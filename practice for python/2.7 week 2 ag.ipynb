{
 "cells": [
  {
   "cell_type": "code",
   "execution_count": 34,
   "metadata": {},
   "outputs": [
    {
     "ename": "SyntaxError",
     "evalue": "invalid syntax (3555378842.py, line 57)",
     "output_type": "error",
     "traceback": [
      "\u001b[1;36m  Cell \u001b[1;32mIn[34], line 57\u001b[1;36m\u001b[0m\n\u001b[1;33m    100!\u001b[0m\n\u001b[1;37m       ^\u001b[0m\n\u001b[1;31mSyntaxError\u001b[0m\u001b[1;31m:\u001b[0m invalid syntax\n"
     ]
    }
   ],
   "source": [
    "pets=['goldfish' , 'cat' , 'dog']\n",
    "pets\n",
    "pets[1]\n",
    "pets[1]='cymricat'\n",
    "pets\n",
    "mycat= 'cymricat'\n",
    "mycat[7]\n",
    "days=('Monday' , 'tuesday' , 'Wednessday')\n",
    "days\n",
    "days=('Monday' , 'Tuesday' , 'Wednessday' , 'Thursday')\n",
    "days\n",
    "'friday' in days\n",
    "'Monday' in days\n",
    "week=('friday' , 'saturday' , 'sunday')\n",
    "week\n",
    "week+days\n",
    "days+week\n",
    "len(week)\n",
    "2*week\n",
    "days[0]\n",
    "pets.append('duck')\n",
    "pets\n",
    "pets.append('dog')\n",
    "pets\n",
    "pets.count('dog')\n",
    "pets.remove('dog')\n",
    "pets\n",
    "type([1,2,3,4,5,6,7,8,9])\n",
    "type(3)\n",
    "type(3.0)\n",
    "type('Hello World')\n",
    "s=3\n",
    "a=[3,5,7,6]\n",
    "a[3]=8\n",
    "a\n",
    "b =[2,4,5]\n",
    "b[1]=3\n",
    "b\n",
    "grades=[9,7,7,10,3,9,6,6,2]\n",
    "grades[1]\n",
    "grades[7]\n",
    "grades[2]\n",
    "grades[5]=4\n",
    "grades\n",
    "max(grades)\n",
    "sum(grades)/9\n",
    "av =sum(grades)/9\n",
    "av\n",
    "grades.sort()\n",
    "grades\n",
    "2+3==4\n",
    "a=2+3==4\n",
    "a\n",
    "2+3==4 or a>=5\n",
    "2*3**2\n",
    "2*5**48\n",
    "\n",
    "\n",
    "\n",
    "\n",
    "\n",
    "\n",
    "\n",
    "\n",
    "\n",
    "\n",
    "\n",
    "\n",
    "\n",
    "\n",
    "\n",
    "\n"
   ]
  }
 ],
 "metadata": {
  "kernelspec": {
   "display_name": "Python 3",
   "language": "python",
   "name": "python3"
  },
  "language_info": {
   "codemirror_mode": {
    "name": "ipython",
    "version": 3
   },
   "file_extension": ".py",
   "mimetype": "text/x-python",
   "name": "python",
   "nbconvert_exporter": "python",
   "pygments_lexer": "ipython3",
   "version": "3.11.1"
  },
  "orig_nbformat": 4
 },
 "nbformat": 4,
 "nbformat_minor": 2
}
