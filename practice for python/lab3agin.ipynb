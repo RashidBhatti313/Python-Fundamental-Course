{
 "cells": [
  {
   "cell_type": "code",
   "execution_count": 2,
   "metadata": {},
   "outputs": [
    {
     "name": "stdout",
     "output_type": "stream",
     "text": [
      "sum of a and b = 7\n",
      "differnce a-b =  -1\n",
      "product is =  12\n",
      "division is =  0.75\n",
      "intiger division is =  0\n",
      "Raised to the power =  81\n",
      "Remaider is =  3\n"
     ]
    }
   ],
   "source": [
    "a = 3\n",
    "b = 4\n",
    "print(\"sum of a and b =\" , a+b)\n",
    "print(\"differnce a-b = \", a-b)\n",
    "print(\"product is = \" , a*b)\n",
    "print(\"division is = \" , a/b)\n",
    "print(\"intiger division is = \", a//b)\n",
    "print(\"Raised to the power = \" , a**b)\n",
    "print(\"Remaider is = \", a%b)"
   ]
  },
  {
   "cell_type": "code",
   "execution_count": 4,
   "metadata": {},
   "outputs": [
    {
     "name": "stdout",
     "output_type": "stream",
     "text": [
      "x is equal to y=  False\n",
      "x is not equal to y= True\n",
      "x is greater than y= True\n",
      "x is less than y=  False\n",
      "x is greater than or equal to y= True\n",
      "x is less than or equal to y= False\n"
     ]
    }
   ],
   "source": [
    "x=20\n",
    "y=15\n",
    "\n",
    "print(\"x is equal to y= \", x==y)\n",
    "print(\"x is not equal to y=\",x!=y)\n",
    "print(\"x is greater than y=\",x>y)\n",
    "print(\"x is less than y= \",x<y)\n",
    "print(\"x is greater than or equal to y=\",x>=y)\n",
    "print(\"x is less than or equal to y=\",x<=y)\n"
   ]
  },
  {
   "cell_type": "code",
   "execution_count": 6,
   "metadata": {},
   "outputs": [
    {
     "name": "stdout",
     "output_type": "stream",
     "text": [
      "True\n",
      "True\n"
     ]
    }
   ],
   "source": [
    "x=15\n",
    "print(x>13 and x<20)\n",
    "x=25\n",
    "print(x>23 or x<24)"
   ]
  }
 ],
 "metadata": {
  "kernelspec": {
   "display_name": "Python 3",
   "language": "python",
   "name": "python3"
  },
  "language_info": {
   "codemirror_mode": {
    "name": "ipython",
    "version": 3
   },
   "file_extension": ".py",
   "mimetype": "text/x-python",
   "name": "python",
   "nbconvert_exporter": "python",
   "pygments_lexer": "ipython3",
   "version": "3.11.1"
  },
  "orig_nbformat": 4
 },
 "nbformat": 4,
 "nbformat_minor": 2
}
