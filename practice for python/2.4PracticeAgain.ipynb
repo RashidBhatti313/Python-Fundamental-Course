{
 "cells": [
  {
   "cell_type": "code",
   "execution_count": 19,
   "metadata": {},
   "outputs": [
    {
     "name": "stdout",
     "output_type": "stream",
     "text": [
      "ant bat cod\n",
      "ant ant ant ant ant ant ant ant \n",
      "ant bat bat cod cod cod \n",
      "ant batant batant batant batant bat\n",
      "ant batbatbatbatbat\n",
      "ant bat bat bat bat bat \n",
      "ant bat ant bat ant bat ant bat ant bat \n",
      "antbatcod antbatcod antbatcod antbatcod \n"
     ]
    }
   ],
   "source": [
    "s1 = 'ant'\n",
    "s2 = 'bat'\n",
    "s3 = 'cod'\n",
    "print(s1+' '+s2+' '+s3)\n",
    "print((s1+' ')*8)\n",
    "print((s1+' ')+(s2+' ')* 2+ (s3+' ')*3)\n",
    "print((s1+' '+s2)*5)\n",
    "print((s1+' ') + (s2)*5)\n",
    "print((s1+' ') + (s2+' ')*5)\n",
    "print(((s1+' ') + (s2+' '))*5)\n",
    "print((s1+s2+s3+' ')*4)\n",
    "\n",
    "\n"
   ]
  }
 ],
 "metadata": {
  "kernelspec": {
   "display_name": "Python 3",
   "language": "python",
   "name": "python3"
  },
  "language_info": {
   "codemirror_mode": {
    "name": "ipython",
    "version": 3
   },
   "file_extension": ".py",
   "mimetype": "text/x-python",
   "name": "python",
   "nbconvert_exporter": "python",
   "pygments_lexer": "ipython3",
   "version": "3.11.1"
  },
  "orig_nbformat": 4
 },
 "nbformat": 4,
 "nbformat_minor": 2
}
